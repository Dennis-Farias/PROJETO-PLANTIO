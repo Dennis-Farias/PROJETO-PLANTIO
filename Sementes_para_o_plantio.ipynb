{
  "nbformat": 4,
  "nbformat_minor": 0,
  "metadata": {
    "colab": {
      "provenance": [],
      "include_colab_link": true
    },
    "kernelspec": {
      "name": "python3",
      "display_name": "Python 3"
    },
    "language_info": {
      "name": "python"
    }
  },
  "cells": [
    {
      "cell_type": "markdown",
      "metadata": {
        "id": "view-in-github",
        "colab_type": "text"
      },
      "source": [
        "<a href=\"https://colab.research.google.com/github/Dennis-Farias/PROJETO-PLANTIO/blob/main/Sementes_para_o_plantio.ipynb\" target=\"_parent\"><img src=\"https://colab.research.google.com/assets/colab-badge.svg\" alt=\"Open In Colab\"/></a>"
      ]
    },
    {
      "cell_type": "code",
      "execution_count": null,
      "metadata": {
        "colab": {
          "base_uri": "https://localhost:8080/"
        },
        "id": "Zdow7a0O7ahs",
        "outputId": "ec7b46c3-b860-4769-bd75-82e0c43a7883"
      },
      "outputs": [
        {
          "output_type": "stream",
          "name": "stdout",
          "text": [
            "\u001b[1;32;43m-\u001b[1;32;43m-\u001b[1;32;43m-\u001b[1;32;43m-\u001b[1;32;43m-\u001b[1;32;43m-\u001b[1;32;43m-\u001b[1;32;43m-\u001b[1;32;43m-\u001b[1;32;43m-\u001b[1;32;43m-\u001b[1;32;43m-\u001b[1;32;43m-\u001b[1;32;43m-\u001b[1;32;43m-\u001b[1;32;43m-\u001b[1;32;43m-\u001b[1;32;43m-\u001b[1;32;43m-\u001b[1;32;43m-\u001b[1;32;43m-\u001b[1;32;43m-\u001b[1;32;43m-\u001b[1;32;43m-\u001b[1;32;43m-\u001b[1;32;43m-\u001b[1;32;43m-\u001b[1;32;43m-\u001b[1;32;43m-\u001b[1;32;43m-\u001b[1;32;43m-\u001b[1;32;43m-\u001b[1;32;43m-\u001b[1;32;43m-\u001b[1;32;43m-\u001b[1;32;43m-\u001b[1;32;43m-\u001b[1;32;43m-\u001b[1;32;43m-\u001b[1;32;43m-\u001b[1;32;43m-\u001b[1;32;43m-\u001b[1;32;43m-\u001b[1;32;43m-\u001b[1;32;43m-\u001b[1;32;43m-\u001b[1;32;43m-\u001b[1;32;43m-\u001b[1;32;43m-\u001b[1;32;43m-\n",
            "CÁLCULO DE QUANTOS SACOS DE SEMENTES SÃO NECESSÁRIOS PARA O PLANTIO\n",
            "--------------------------------------------------\n",
            "Qual a cultura que será plantada? Algodão\n",
            "Quantos hectares serão plantados? 5000\n",
            "Quantas sementes tem no bag? 1000000\n",
            "Quantas sementes vão cair por metro? 8\n",
            "Qual espaçamento entre linhas está sendo utilizado?(m) 0.81\n",
            "Seguindo os dados informados você consegue plantar 10.13 hectares com 1 saco de sementes.\n",
            "Portanto, para plantar 5000.0 hectares são necessários 496 sacos de sementes.\n"
          ]
        }
      ],
      "source": [
        "print('\\033[1;32;43m''-'*50)\n",
        "print('{:^50}'.format('CÁLCULO DE QUANTOS SACOS DE SEMENTES SÃO NECESSÁRIOS PARA O PLANTIO'))\n",
        "print('-'*50)\n",
        "cultura = str(input(\"Qual a cultura que será plantada? \"))\n",
        "qthectaresplantio = float(input(\"Quantos hectares serão plantados? \"))\n",
        "qtsementes = int(input(\"Quantas sementes tem no bag? \"))\n",
        "qtsementepormetro = float(input(\"Quantas sementes vão cair por metro? \"))\n",
        "qtmetrosplantados = qtsementes/qtsementepormetro\n",
        "espacamento = float(input(\"Qual espaçamento entre linhas está sendo utilizado?(m) \"))\n",
        "qtmetroslineares = 10000/espacamento\n",
        "qthectares = qtmetrosplantados/qtmetroslineares\n",
        "qtsacosdesementes = qthectaresplantio/qthectares\n",
        "print('Seguindo os dados informados você consegue plantar {:.2f} hectares com 1 saco de sementes.'.format(qthectares))\n",
        "print('Portanto, para plantar {} hectares são necessários {:.0f} sacos de sementes.'.format(qthectaresplantio, qtsacosdesementes+2))"
      ]
    }
  ]
}