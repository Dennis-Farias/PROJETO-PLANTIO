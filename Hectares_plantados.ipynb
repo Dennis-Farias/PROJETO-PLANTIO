{
  "nbformat": 4,
  "nbformat_minor": 0,
  "metadata": {
    "colab": {
      "provenance": [],
      "include_colab_link": true
    },
    "kernelspec": {
      "name": "python3",
      "display_name": "Python 3"
    },
    "language_info": {
      "name": "python"
    }
  },
  "cells": [
    {
      "cell_type": "markdown",
      "metadata": {
        "id": "view-in-github",
        "colab_type": "text"
      },
      "source": [
        "<a href=\"https://colab.research.google.com/github/Dennis-Farias/BDAG/blob/main/Hectares_plantados.ipynb\" target=\"_parent\"><img src=\"https://colab.research.google.com/assets/colab-badge.svg\" alt=\"Open In Colab\"/></a>"
      ]
    },
    {
      "cell_type": "code",
      "execution_count": null,
      "metadata": {
        "colab": {
          "base_uri": "https://localhost:8080/"
        },
        "id": "Zdow7a0O7ahs",
        "outputId": "6bf99bff-b4bf-43f3-e863-d252646114ee"
      },
      "outputs": [
        {
          "output_type": "stream",
          "name": "stdout",
          "text": [
            "--------------------------------------------------\n",
            "\u001b[1;32;43mCÁLCULO DE QUANTOS HECTARES EU CONSIGO PLANTAR\n",
            "--------------------------------------------------\n"
          ]
        }
      ],
      "source": [
        "print('-'*50)\n",
        "print('{:^50}'.format('\\033[1;32;43m''CÁLCULO DE QUANTOS HECTARES EU CONSIGO PLANTAR'))\n",
        "print('-'*50)\n",
        "cultura = str(input(\"Qual a cultura que será plantada? \"))\n",
        "qtsementes = int(input(\"Quantas sementes serão utilizadas? \"))\n",
        "qtsementepormetro = float(input(\"Quantas sementes vão cair por metro? \"))\n",
        "qtmetrosplantados = qtsementes/qtsementepormetro\n",
        "espacamento = float(input(\"Qual espaçamento entre linhas está sendo utilizado? \"))\n",
        "qtmetroslineares = 10000/espacamento\n",
        "qthectares = qtmetrosplantados/qtmetroslineares\n",
        "print('Seguindo os dados informados você consegue plantar {:.2f} hectares'.format(qthectares))"
      ]
    }
  ]
}